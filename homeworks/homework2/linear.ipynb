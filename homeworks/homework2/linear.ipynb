{
 "cells": [
  {
   "cell_type": "markdown",
   "id": "7f13ccd2-8ae0-454e-8738-82f8a270d351",
   "metadata": {},
   "source": [
    "# K-Nearest Neighbors vs Linear Classifier\n",
    "\n",
    "In this homework we'll explore two different methods of classifing the MNIST database we looked at during our lab. The first is a simple but effective _non-parametric_ classification algorithm called $k$-nearest neighbors (KNN). This one will serve mostly as a way to practice some of the array programming concepts we've seen. The second is an extension of the work we did in lab from the binary classification setting to multiclass classification."
   ]
  },
  {
   "cell_type": "markdown",
   "id": "1c612494-5596-476d-9daf-04ee8a9ce107",
   "metadata": {},
   "source": [
    "## Array Programming\n",
    "\n",
    "The first part of this assignment asks you to solve some array programming problems. These are meant to help you develop a feel for array programming and to get some practice thinking in terms of broadcasting. They are also more specifically designed as leading questions to help you figure out the code that occurs later in the notebook when we're implementing KNN and linear models.\n",
    "\n",
    "Fill in the body of each of the functions below. For all of these functions, you should avoid using explicit loops and rely on broadcasting semantics. I'd also recommend running a few tests to make sure everything is working.\n",
    "\n",
    "When you're working with broadcasting and array programming, it's often helpful to think about the _shapes_ of the arrays you have access to and the arrays you want to produce. In the first couple of exercises I'll include some notes about how I would use this kind of thinking to approach the problem."
   ]
  },
  {
   "cell_type": "code",
   "execution_count": 5,
   "id": "0bfe48be-f810-4828-8bc9-8747bd18142f",
   "metadata": {},
   "outputs": [
    {
     "name": "stdout",
     "output_type": "stream",
     "text": [
      "[[ 4  5]\n",
      " [ 8 10]\n",
      " [12 15]]\n",
      "[14 77]\n",
      "[[ 2  4  6]\n",
      " [16 20 24]]\n"
     ]
    }
   ],
   "source": [
    "import numpy as np\n",
    "\n",
    "def outer_product(x, y):\n",
    "    \"\"\"\n",
    "    Compute the outer product of two vectors: x (of shape (N,)) and y (of shape\n",
    "    (M,)). The outer product x y^T is a matrix A of shape (N, M) where for any\n",
    "    i and j, A[i,j] = x[i] * y[j]\n",
    "    \"\"\"\n",
    "    # If we're thinking about shapes, we need to create an array of shape (N,M)\n",
    "    # by broadcasting arrays of shape (N,) and (M,). Remembering our\n",
    "    # broadcasting rules, if our first array had shape (N, 1) instead of (N,)\n",
    "    # then this would work out for us.\n",
    "\n",
    "    # Reshaping them for broadcasting\n",
    "    x = x.reshape(-1, 1)\n",
    "    y = y.reshape(-1,1)\n",
    "\n",
    "    # Taking x y^T\n",
    "    outer_prod = x @ y.transpose()\n",
    "\n",
    "    return outer_prod\n",
    "\n",
    "print(outer_product(np.array([1, 2, 3]), np.array([4, 5])))\n",
    "# should be np.array([[4, 5], [8, 10], [12, 15]])\n",
    "\n",
    "# Note that we can use the outer product pattern to apply _any_ operation\n",
    "# between all pairs of elements from two arrays by replacing the multiplication\n",
    "# with some other operation. This will be relevant in the KNN section below.\n",
    "# The outer product also appears as part of the gradient computation in the\n",
    "# linear models section, but in a slightly different form.\n",
    "\n",
    "\n",
    "def norm_squared(x, axis_num=1):\n",
    "    \"\"\"\n",
    "    Given a matrix x of shape (N, M) compute the squared Euclidean norm of each\n",
    "    row of the matrix. The squared Euclidean norm for a vector v is defined as\n",
    "    v_1^2 + v_2^2 + ... + v_M^2. That is, it is the sum of the squares of each\n",
    "    element of the vector.\n",
    "    \"\"\"\n",
    "    # In terms of shapes, we're taking in an array of shape (N, M) and\n",
    "    # producing a single number for each row, so the output will have shape\n",
    "    # (N,). Accordingly, we'll need some kind of aggregation along axis 1 to\n",
    "    # \"squash\" the columns of the array together.\n",
    "\n",
    "    # Vectorizing our squaring function\n",
    "    vfunc = np.vectorize(lambda y: y**2)\n",
    "\n",
    "    # Taking the vectorized function over the rows\n",
    "    return np.sum(vfunc(x), axis=axis_num)\n",
    "\n",
    "print(norm_squared(np.array([[1, 2, 3], [4, 5, 6]])))\n",
    "# should be np.array([14, 77])\n",
    "\n",
    "# The squared norm will come up again in the KNN section.\n",
    "# The same pattern, but with different computations, will appear when we\n",
    "# compute the softmax function in the linear model section.\n",
    "\n",
    "\n",
    "def row_multiply(m, x):\n",
    "    \"\"\"\n",
    "    Given a matrix m of shape (N, M) and a vector x of shape (N,), multiply\n",
    "    each row of m by the corresponding element of x.\n",
    "    \"\"\"\n",
    "    \n",
    "    # Pretty simple broadcasting\n",
    "    return m*x.reshape(-1,1)\n",
    "\n",
    "print(row_multiply(np.array([[1, 2, 3], [4, 5, 6]]), np.array([2, 4])))\n",
    "# should be np.array([2, 4, 6], [16, 20, 24])\n",
    "\n",
    "# This pattern will appear as part of the softmax funciton in the linear\n",
    "#"
   ]
  },
  {
   "cell_type": "markdown",
   "id": "0e72fa03-2afe-4a52-b32d-5e77785d468d",
   "metadata": {},
   "source": [
    "## Preparing Data\n",
    "\n",
    "The first part of this notebook is the same as our lab: we just need to get the MNIST data into Python. This code is already complete, but you may need to modify the file names at the bottom of this cell to work with your system."
   ]
  },
  {
   "cell_type": "code",
   "execution_count": 6,
   "id": "ca358258-dc78-499a-8135-d3fa425d6270",
   "metadata": {},
   "outputs": [
    {
     "name": "stdout",
     "output_type": "stream",
     "text": [
      "Extracting ../../data/train-images-idx3-ubyte.gz\n",
      "Extracting ../../data/train-labels-idx1-ubyte.gz\n"
     ]
    }
   ],
   "source": [
    "import gzip\n",
    "import numpy as np\n",
    "\n",
    "# Code to extract the MNIST data is adapted from https://gist.github.com/awjuliani/1d21151bc17362bf6738c3dc02f37906\n",
    "\n",
    "def _read32(bytestream):\n",
    "    dt = np.dtype(np.uint32).newbyteorder('>')\n",
    "    return np.frombuffer(bytestream.read(4), dtype=dt)[0]\n",
    "\n",
    "def extract_images(filename):\n",
    "    \"\"\"Extract the images into a 4D uint8 numpy array [index, y, x, depth].\"\"\"\n",
    "    print('Extracting', filename)\n",
    "    with gzip.open(filename) as bytestream:\n",
    "        magic = _read32(bytestream)\n",
    "        if magic != 2051:\n",
    "            raise ValueError(\n",
    "              'Invalid magic number %d in MNIST image file: %s' %\n",
    "              (magic, filename))\n",
    "        num_images = _read32(bytestream)\n",
    "        rows = _read32(bytestream)\n",
    "        cols = _read32(bytestream)\n",
    "        buf = bytestream.read(rows * cols * num_images)\n",
    "        data = np.frombuffer(buf, dtype=np.uint8)\n",
    "        data = data.reshape(num_images, rows, cols)\n",
    "    return data\n",
    "\n",
    "def extract_labels(filename):\n",
    "    \"\"\"Extract the labels into a 1D uint8 numpy array [index].\"\"\"\n",
    "    print('Extracting', filename)\n",
    "    with gzip.open(filename) as bytestream:\n",
    "        magic = _read32(bytestream)\n",
    "        if magic != 2049:\n",
    "            raise ValueError(\n",
    "              'Invalid magic number %d in MNIST label file: %s' %\n",
    "              (magic, filename))\n",
    "        num_items = _read32(bytestream)\n",
    "        buf = bytestream.read(num_items)\n",
    "        labels = np.frombuffer(buf, dtype=np.uint8)\n",
    "    return labels\n",
    "\n",
    "images = extract_images(\"../../data/train-images-idx3-ubyte.gz\")\n",
    "labels = extract_labels(\"../../data/train-labels-idx1-ubyte.gz\")"
   ]
  },
  {
   "cell_type": "markdown",
   "id": "4ba35452-3df7-412b-863c-592390bfb3ac",
   "metadata": {},
   "source": [
    "One thing we haven't talked about so far in class is how we measure a model's performance after we're done training. Using the same data to evaluate the model that we used to train it introduces a lot of bias, so it's typical to reserve, or \"hold out\", some portion of the data for measuring how well the model actually works after training. For today we'll follow typical practice and hold out 20% of the data. We call this the _validation set_. The other 80% is called the _training set_."
   ]
  },
  {
   "cell_type": "code",
   "execution_count": 7,
   "id": "3c1c8b0f-77b1-4745-af0b-a8dd27f97a7b",
   "metadata": {},
   "outputs": [],
   "source": [
    "# Shuffle the data\n",
    "perm = np.random.permutation(images.shape[0])\n",
    "images = images[perm]\n",
    "labels = labels[perm]\n",
    "# Split it\n",
    "train_size = int(images.shape[0] * 0.8)\n",
    "train_images = images[:train_size].reshape(-1, 28 * 28)\n",
    "train_labels = labels[:train_size]\n",
    "valid_images = images[train_size:].reshape(-1, 28 * 28)\n",
    "valid_labels = labels[train_size:]"
   ]
  },
  {
   "cell_type": "markdown",
   "id": "bf53f38c-1c30-45dd-a6a1-a23aff2faf1f",
   "metadata": {},
   "source": [
    "You should only use `train_images` and `train_labels` for training your model. You can use `valid_images` and `valid_labels` for testing how well a model works."
   ]
  },
  {
   "cell_type": "markdown",
   "id": "df34eb3d-a59f-4547-a280-f7845e1aee21",
   "metadata": {},
   "source": [
    "## K-Nearest Neighbors\n",
    "\n",
    "In a $k$-nearest neighbors classifier, we predict which class a point will belong to by first computing it's distance from each point in the training set. Then we choose the $k$ points which are closest to the point under consideration and take a majority vote of the labels of those points. Whichever label has the most votes is our prediction. Here's a visualization, modeled after the one found on the Wikipedia page (you don't need to fill in anything in this cell)."
   ]
  },
  {
   "cell_type": "code",
   "execution_count": 8,
   "id": "10da61ae-770e-450d-880c-8c2354c9bf48",
   "metadata": {},
   "outputs": [
    {
     "data": {
      "image/png": "[encoded data removed]",
      "text/plain": [
       "<Figure size 640x480 with 1 Axes>"
      ]
     },
     "metadata": {},
     "output_type": "display_data"
    }
   ],
   "source": [
    "import matplotlib.pyplot as plt\n",
    "import matplotlib as mpl\n",
    "%matplotlib inline\n",
    "%config InlineRenderer.figure_format = 'retina'\n",
    "mpl.rcParams['lines.markersize'] = 10\n",
    "\n",
    "xs = np.array([[0, 0.1], [0.3, 0.05], [-0.2, -0.1], [-0.1, 0.6], [0.2, -0.4], [-0.6, 0.1], [0.5, -0.2], [-0.4, -0.4], [0.1, 0.4]])\n",
    "ys = np.array([0, 1, 1, 0, 0, 1, 0, 1, 0])\n",
    "\n",
    "fig, ax = plt.subplots()\n",
    "plt.scatter(xs[ys == 0, 0], xs[ys == 0, 1], marker='o')\n",
    "plt.scatter(xs[ys == 1, 0], xs[ys == 1, 1], marker='s')\n",
    "plt.plot(0, 0, marker='^', color='g')\n",
    "circle1 = plt.Circle((0, 0), 0.15, color='r', fill=False)\n",
    "circle3 = plt.Circle((0, 0), 0.35, color='r', fill=False, linestyle='--')\n",
    "circle5 = plt.Circle((0, 0), 0.5, color='r', fill=False, linestyle='-.')\n",
    "ax.add_patch(circle1)\n",
    "ax.add_patch(circle3)\n",
    "ax.add_patch(circle5)\n",
    "ax.set_xlim([-0.7, 0.7])\n",
    "ax.set_ylim([-0.7, 0.7])\n",
    "ax.set_aspect('equal')\n",
    "plt.show()"
   ]
  },
  {
   "cell_type": "markdown",
   "id": "3dae9412-748e-40ac-b7ad-03ad2d022fd7",
   "metadata": {},
   "source": [
    "In the figure above, the green triangle represents a new point we are trying to classify while the orange squares and blue circles represent our dataset. The three red circles help to visualize the $k$-nearest neighbors classification for different values of $k$. The innermost (solid) circle corresponds to $k = 1$. Since the nearest point is a blue circle, we would classify the triangle as a blue circle. The middle (dashed) circle represents $k = 3$. In this case there are two orange squares and one blue circle, so by majority vote we would classify the triangle as an orange square. The outermost (dash-dotted) circle represents $k = 5$. In this case, there are tree blue circles and two orange squares, so we classify the triangle as a circle.\n",
    "\n",
    "Note that there may sometimes be ties. In general, there are many ways to break ties--for this notebook, the code chooses arbitrarily between each of the classes involved in the tie."
   ]
  },
  {
   "cell_type": "markdown",
   "id": "409e63be-0841-422f-9705-de588f6e1a61",
   "metadata": {},
   "source": [
    "Now we're ready to implement the KNN classifier. The function `knn` below expects an array `train_data` of shape `(N, D)` where `N` is the number of training data points and `D` is the dimension of each point (784 for the MNIST data), an array `train_outputs` of shape `(N,)` containing the labels for each point, and an array `eval_data` of shape `(M, D)` where `M` is the number of points to eavluate on. You'll need to fill in the code to compute the (standard Euclidean) distance between each point in `eval_data` and every point in `train_data`. These distances should be stored in the `distances` variable. The given code assumes that `distances` is an array of shape `(M, N)`. The code that's already present in the next cell takes care of sorting these distances, taking the first `k` elements, and performing the actual voting. Try to compute the distances using _only_ broadcast semantics without any (explicit) loops. For partial credit, you can loop over `eval_data` and consider each row one at a time, but still try to use broadcasting to simultaneously compute the distance from that point to each point in `train_data`. For less credit, you can loop over both `eval_data` and `train_data`.\n",
    "\n",
    "NOTE: since all we need is an _ordering_ on the distances, and not the actual values of the distances, it is sufficient to compute the squared distance. This avoids a square root operation and saves some time."
   ]
  },
  {
   "cell_type": "code",
   "execution_count": 9,
   "id": "e6f0e5f0-c546-4193-8fb6-6d4a745f24b2",
   "metadata": {},
   "outputs": [],
   "source": [
    "import scipy.stats\n",
    "\n",
    "def norm_squared(x, axis_num=1):\n",
    "    \"\"\"\n",
    "    Given a matrix x of shape (N, M) compute the squared Euclidean norm of each\n",
    "    row of the matrix. The squared Euclidean norm for a vector v is defined as\n",
    "    v_1^2 + v_2^2 + ... + v_M^2. That is, it is the sum of the squares of each\n",
    "    element of the vector.\n",
    "    \"\"\"\n",
    "    # In terms of shapes, we're taking in an array of shape (N, M) and\n",
    "    # producing a single number for each row, so the output will have shape\n",
    "    # (N,). Accordingly, we'll need some kind of aggregation along axis 1 to\n",
    "    # \"squash\" the columns of the array together.\n",
    "\n",
    "    # Vectorizing our squaring function\n",
    "    vfunc = np.vectorize(lambda y: y**2)\n",
    "\n",
    "    # Taking the vectorized function over the rows\n",
    "    return np.sum(vfunc(x), axis=axis_num)\n",
    "\n",
    "def knn(train_data, train_outputs, eval_data, k=5):\n",
    "    \n",
    "    # We can do this with broadcasting; for each data point m in eval_data,\n",
    "    # and letting T represent our train data, we take T-m as our distance\n",
    "    # matrix. Then, we evaluate norm_squared on T-m \n",
    "\n",
    "    # We can expand the eval_data to M x 1 x D\n",
    "    # Then, we subtract N x D - M x 1 x D to get M x N x D\n",
    "    # We then apply our norm_squared to get M x N\n",
    "    eval_data = np.expand_dims(eval_data, axis=1)\n",
    "    distances = np.squeeze(norm_squared(train_data-eval_data, 2))\n",
    "\n",
    "    inds = np.argpartition(distances, k, axis=1)[:,:k]\n",
    "    votes = train_outputs[inds]\n",
    "    prediction = scipy.stats.mode(votes, axis=1).mode\n",
    "    return prediction"
   ]
  },
  {
   "cell_type": "markdown",
   "id": "df4bc0f9-3288-4211-9657-dd1fcdd5cc2e",
   "metadata": {},
   "source": [
    "Now we can test out your `knn` function. The code below picks `train_size` elements of the training set and `test_size` elements of the validation set and calls your `knn` function on these two samples. It then computes the accuracy of the KNN classifier by checking how often the predicted label agrees with the actual label on the validaiton set. The `knn` function can be quite slow if you try to evaluate on the entire training and validation sets, which is why we're only using a subset here. I found that 10000 training points gives pretty good results (in the 92-95% range) and a `test_size` of 200 can run within a few seconds on my machine. You may need to change these numbers depending on your computer and how your `knn` function is written. There's no code to implement in this cell."
   ]
  },
  {
   "cell_type": "code",
   "execution_count": 10,
   "id": "0405d2b8-62e7-43b3-af70-c0b5df93f402",
   "metadata": {},
   "outputs": [
    {
     "name": "stdout",
     "output_type": "stream",
     "text": [
      "Accuracy: 0.8\n"
     ]
    }
   ],
   "source": [
    "# I'm not using the full dataset because it crashed my VS code\n",
    "# If you have more memory than my machine, you might be able to \n",
    "# set it back to 10,000\n",
    "\n",
    "train_size = 1000\n",
    "test_size = 200\n",
    "preds = knn(train_images[:train_size].astype(np.float32),\n",
    "            train_labels[:train_size],\n",
    "            valid_images[:test_size].astype(np.float32),\n",
    "            k=10)\n",
    "print(\"Accuracy:\", np.mean(preds == valid_labels[:test_size]))"
   ]
  },
  {
   "cell_type": "markdown",
   "id": "932774a6-19db-4631-8b66-a3e44dbc5ebd",
   "metadata": {},
   "source": [
    "We can also plot a few of the images along with the KNN predictions. There is no code to implement in this cell."
   ]
  },
  {
   "cell_type": "code",
   "execution_count": 11,
   "id": "256dc6d9-9adc-4d26-a242-fe926cec57e4",
   "metadata": {},
   "outputs": [
    {
     "data": {
      "image/png": "[encoded data removed]",
      "text/plain": [
       "<Figure size 640x480 with 5 Axes>"
      ]
     },
     "metadata": {},
     "output_type": "display_data"
    }
   ],
   "source": [
    "fig, axs = plt.subplots(1, 5)\n",
    "idxs = np.random.randint(0, valid_images.shape[0], size=5)\n",
    "preds = knn(train_images.astype(np.float32), train_labels, valid_images[idxs].astype(np.float32), k=10)\n",
    "for i in range(5):\n",
    "    axs[i].imshow(valid_images[idxs[i]].reshape(28, 28), cmap='gray', vmin=0, vmax=255)\n",
    "    axs[i].title.set_text(\"Pred: \" + str(preds[i]))\n",
    "plt.show()"
   ]
  },
  {
   "cell_type": "markdown",
   "id": "bca5e6be-fc8a-40b9-8557-d5905a13bdc0",
   "metadata": {},
   "source": [
    "## Linear Model\n",
    "\n",
    "Now let's switch gears and go back to the linear models we were working with in class. We'll extend our binary classifier to a multiclass classifier that can choose between all 10 possible digits. In the binary setting, because we only had two classes, we could use a single number output to represent a probability distribution over the two possibilities. Now we need to represent a distribution over 10 classes. Therefore, we'll need to have a model that outputs 10 numbers rather than one. That is, we need a model $g : \\mathbb{R}^D \\to \\mathbb{R}^{10}$ (where $D$ is the number of dimensions in each input data point) and we need a way to transform arbitrary vectors of 10 values into probability distributions. For the model, we simply extend our dot product to a matrix multiplication. For numerical reasons, we often think of the input $x$ as a row vector, so the linear part of our model is $g(W; x) = x W$ where $W \\in \\mathbb{R}^{D \\times 10}$ is a matrix of parameters which we'll train. In order to transform the output to a distribution, we use the _softmax_ function. For a vector $z \\in \\mathbb{R}^C$, the softmax function is defined as\n",
    "\n",
    "$$\n",
    "S(z)_i = \\frac{e^{z_i}}{\\sum_{j=1}^C e^{z_j}}\n",
    "$$\n",
    "\n",
    "where the subscript $i$ is an index into a vector and $i$ and $j$ each range over the number of classes (in this case 10). Our full model is then $f(W; x) = S(x W)$. Note that a lot of authors represent the softmax by $\\sigma$ so you may see that in external resource. I chose to use $S$ since we already used $\\sigma$ for the logistic sigmoid.\n",
    "\n",
    "For our loss function, we can continue to use cross-entropy, but we'll now need to consider that there are more than two classes. The cross-entropy can be derived in the same way, and we end up with the expression\n",
    "\n",
    "$$\n",
    "\\ell(x, y, W) = -\\log f(W; x)_y\n",
    "$$\n",
    "\n",
    "That is, it's the negative log of the predicted probability for the _correct_ class, indicated by $y$. The gradient of $\\ell$ is given by\n",
    "\n",
    "$$\n",
    "\\nabla_W \\ell(x, y, W) = x (f(W; x) - h(y))^T\n",
    "$$\n",
    "\n",
    "where $h(y)$ is a _one-hot_ encoding of $y$. Remember that the output $y$ is an integer between 0 and 9. $h(y)$ is a vector where each element is zero except for the element at index $y$, which is one. For example\n",
    "\n",
    "```\n",
    "h(3) = [0, 0, 0, 1, 0, 0, 0, 0, 0, 0]\n",
    "h(0) = [1, 0, 0, 0, 0, 0, 0, 0, 0, 0]\n",
    "h(8) = [0, 0, 0, 0, 0, 0, 0, 0, 1, 0]\n",
    "```\n",
    "\n",
    "The expression $x (f(W; x) - h(y))^T$ is the _outer product_ of two vectors $x$ and $f(W; x) - h(y)$. As we saw above, it is the matrix product we get when we treat $x$ as a $D \\times 1$ matrix and treat $f(W; x) - h(y)$ as a $1 \\times 10$ vector. That is, it is a matrix where the entry at index $i,j$ is the product $x_i (f(W; x) - h(y))_j$.\n",
    "\n",
    "I've put a derivation of the gradient at the end of the document.\n",
    "\n",
    "Remember that the overall loss is\n",
    "\n",
    "$$\n",
    "L(W) = \\sum_{(x,y) \\in \\mathcal{D}} \\ell(x, y, W)\n",
    "$$\n",
    "\n",
    "and then the gradient is given by\n",
    "\n",
    "$$\n",
    "\\nabla L(W) = \\sum_{(x,y) \\in \\mathcal{D}} \\nabla_W \\ell(x, y, W)\n",
    "$$"
   ]
  },
  {
   "cell_type": "markdown",
   "id": "debe22ee-c1bf-4a38-aae4-55df582fb473",
   "metadata": {},
   "source": [
    "Your task now is to train a linear model using gradient descent. Parts of the training code are filled in for you. You need to implement two things:\n",
    "\n",
    "- The computation of the predicted probability distribution. That is, given $W$ (as `weights`) and the input data (as `train_data`), you need to compute a matrix of size $N \\times 10$ where $N$ is the number of data points and each row is a distribution over the possible classes. You'll also need to produce `valid_preds`, but this uses exactly the same code as `preds` except that the input is `valid_data` instead of `train_data`.\n",
    "- The gradient computation. That is, you need to produce the $D \\times 10$ matrix `weight_grad` based on the formula for the gradient above."
   ]
  },
  {
   "cell_type": "code",
   "execution_count": 22,
   "id": "f8fe68c2-e83f-4a44-a7e2-bde26bfbecb1",
   "metadata": {},
   "outputs": [],
   "source": [
    "import numpy as np\n",
    "\n",
    "def train(train_data, train_outputs, valid_data, valid_outputs, epochs=100, learning_rate=1e-5):\n",
    "    weights = np.zeros((train_data.shape[1], 10))\n",
    "    one_hot = np.zeros((train_outputs.shape[0], 10))\n",
    "    one_hot[np.arange(train_outputs.shape[0]), train_outputs] = 1\n",
    "    # Each row of one_hot represents h(y) for one of the elements y of train_outputs\n",
    "\n",
    "    for i in range(epochs):\n",
    "\n",
    "        # calculating xW\n",
    "        logits = train_data @ weights\n",
    "        exp_logits = np.exp(logits)\n",
    "\n",
    "        # Calculating S(xW)\n",
    "        preds = exp_logits/np.expand_dims(np.sum(exp_logits, axis=1), axis=1)\n",
    "        correct_pred = preds[np.arange(preds.shape[0]), train_outputs]\n",
    "\n",
    "        # correct_pred is the the probability assigned to the correct class by our model\n",
    "        loss = np.mean(-np.log(correct_pred))\n",
    "\n",
    "        if i % 10 == 0:\n",
    "\n",
    "            # Calculating valid_preds in the same way as preds\n",
    "            valid_logits = valid_data @ weights\n",
    "            exp_vlogits = np.exp(valid_logits)\n",
    "            valid_preds = exp_vlogits/np.expand_dims(np.sum(exp_vlogits, axis=1), axis=1)\n",
    "\n",
    "            valid_max = np.argmax(valid_preds, axis=1)\n",
    "            accuracy = np.mean(valid_max == valid_outputs)\n",
    "            print(\"Epoch:\", i, \" -- Loss:\", loss, \" -- validation accuracy:\", accuracy)\n",
    "\n",
    "        # Calculating gradients from the formula\n",
    "        weight_grad = train_data.T @ (preds-one_hot)\n",
    "        weights -= learning_rate * weight_grad\n",
    "\n",
    "        if i == 0:\n",
    "            print(\"Logits shape: \", weights.shape)\n",
    "            print(\"Logits grad shape: \", weight_grad.shape)\n",
    "\n",
    "    return weights"
   ]
  },
  {
   "cell_type": "markdown",
   "id": "a21a9d55-2fe7-41ec-9cc6-efbf521a1157",
   "metadata": {},
   "source": [
    "Now we can try out your training code. First, we'll normalize the input data like we did in the lab. Remember that for image data, we typically compute the mean over _all_ of the pixels for each color channel (and in this case we only have one color channel)."
   ]
  },
  {
   "cell_type": "code",
   "execution_count": 23,
   "id": "3649bd13-014f-43fd-bec1-635bcb3f1527",
   "metadata": {},
   "outputs": [],
   "source": [
    "mean = np.mean(train_images)\n",
    "std = np.std(train_images)\n",
    "\n",
    "norm_train_images = (train_images - mean) / std\n",
    "norm_valid_images = (valid_images - mean) / std"
   ]
  },
  {
   "cell_type": "code",
   "execution_count": 24,
   "id": "6328f132-89f5-462b-8725-55f8e2d3e4ea",
   "metadata": {},
   "outputs": [
    {
     "name": "stdout",
     "output_type": "stream",
     "text": [
      "Epoch: 0  -- Loss: 2.3025850929940455  -- validation accuracy: 0.09875\n",
      "Logits shape:  (784, 10)\n",
      "Logits grad shape:  (784, 10)\n",
      "Epoch: 10  -- Loss: 0.5971768734688976  -- validation accuracy: 0.84275\n",
      "Epoch: 20  -- Loss: 0.46725559325349536  -- validation accuracy: 0.875\n",
      "Epoch: 30  -- Loss: 0.4231077317746417  -- validation accuracy: 0.8819166666666667\n"
     ]
    },
    {
     "ename": "KeyboardInterrupt",
     "evalue": "",
     "output_type": "error",
     "traceback": [
      "\u001b[0;31m---------------------------------------------------------------------------\u001b[0m",
      "\u001b[0;31mKeyboardInterrupt\u001b[0m                         Traceback (most recent call last)",
      "Cell \u001b[0;32mIn[24], line 1\u001b[0m\n\u001b[0;32m----> 1\u001b[0m model_weights \u001b[38;5;241m=\u001b[39m \u001b[43mtrain\u001b[49m\u001b[43m(\u001b[49m\u001b[43mnorm_train_images\u001b[49m\u001b[43m,\u001b[49m\n\u001b[1;32m      2\u001b[0m \u001b[43m                      \u001b[49m\u001b[43mtrain_labels\u001b[49m\u001b[43m,\u001b[49m\n\u001b[1;32m      3\u001b[0m \u001b[43m                      \u001b[49m\u001b[43mnorm_valid_images\u001b[49m\u001b[43m,\u001b[49m\n\u001b[1;32m      4\u001b[0m \u001b[43m                      \u001b[49m\u001b[43mvalid_labels\u001b[49m\u001b[43m,\u001b[49m\n\u001b[1;32m      5\u001b[0m \u001b[43m                      \u001b[49m\u001b[43mepochs\u001b[49m\u001b[38;5;241;43m=\u001b[39;49m\u001b[38;5;241;43m300\u001b[39;49m\u001b[43m,\u001b[49m\n\u001b[1;32m      6\u001b[0m \u001b[43m                      \u001b[49m\u001b[43mlearning_rate\u001b[49m\u001b[38;5;241;43m=\u001b[39;49m\u001b[38;5;241;43m2e-6\u001b[39;49m\u001b[43m)\u001b[49m\n",
      "Cell \u001b[0;32mIn[22], line 16\u001b[0m, in \u001b[0;36mtrain\u001b[0;34m(train_data, train_outputs, valid_data, valid_outputs, epochs, learning_rate)\u001b[0m\n\u001b[1;32m     13\u001b[0m exp_logits \u001b[38;5;241m=\u001b[39m np\u001b[38;5;241m.\u001b[39mexp(logits)\n\u001b[1;32m     15\u001b[0m \u001b[38;5;66;03m# Calculating S(xW)\u001b[39;00m\n\u001b[0;32m---> 16\u001b[0m preds \u001b[38;5;241m=\u001b[39m exp_logits\u001b[38;5;241m/\u001b[39mnp\u001b[38;5;241m.\u001b[39mexpand_dims(\u001b[43mnp\u001b[49m\u001b[38;5;241;43m.\u001b[39;49m\u001b[43msum\u001b[49m\u001b[43m(\u001b[49m\u001b[43mexp_logits\u001b[49m\u001b[43m,\u001b[49m\u001b[43m \u001b[49m\u001b[43maxis\u001b[49m\u001b[38;5;241;43m=\u001b[39;49m\u001b[38;5;241;43m1\u001b[39;49m\u001b[43m)\u001b[49m, axis\u001b[38;5;241m=\u001b[39m\u001b[38;5;241m1\u001b[39m)\n\u001b[1;32m     17\u001b[0m correct_pred \u001b[38;5;241m=\u001b[39m preds[np\u001b[38;5;241m.\u001b[39marange(preds\u001b[38;5;241m.\u001b[39mshape[\u001b[38;5;241m0\u001b[39m]), train_outputs]\n\u001b[1;32m     19\u001b[0m \u001b[38;5;66;03m# correct_pred is the the probability assigned to the correct class by our model\u001b[39;00m\n",
      "File \u001b[0;32m~/miniconda3/envs/csci378-deep-learning/lib/python3.13/site-packages/numpy/_core/fromnumeric.py:2466\u001b[0m, in \u001b[0;36msum\u001b[0;34m(a, axis, dtype, out, keepdims, initial, where)\u001b[0m\n\u001b[1;32m   2463\u001b[0m         \u001b[38;5;28;01mreturn\u001b[39;00m out\n\u001b[1;32m   2464\u001b[0m     \u001b[38;5;28;01mreturn\u001b[39;00m res\n\u001b[0;32m-> 2466\u001b[0m \u001b[38;5;28;01mreturn\u001b[39;00m \u001b[43m_wrapreduction\u001b[49m\u001b[43m(\u001b[49m\n\u001b[1;32m   2467\u001b[0m \u001b[43m    \u001b[49m\u001b[43ma\u001b[49m\u001b[43m,\u001b[49m\u001b[43m \u001b[49m\u001b[43mnp\u001b[49m\u001b[38;5;241;43m.\u001b[39;49m\u001b[43madd\u001b[49m\u001b[43m,\u001b[49m\u001b[43m \u001b[49m\u001b[38;5;124;43m'\u001b[39;49m\u001b[38;5;124;43msum\u001b[39;49m\u001b[38;5;124;43m'\u001b[39;49m\u001b[43m,\u001b[49m\u001b[43m \u001b[49m\u001b[43maxis\u001b[49m\u001b[43m,\u001b[49m\u001b[43m \u001b[49m\u001b[43mdtype\u001b[49m\u001b[43m,\u001b[49m\u001b[43m \u001b[49m\u001b[43mout\u001b[49m\u001b[43m,\u001b[49m\n\u001b[1;32m   2468\u001b[0m \u001b[43m    \u001b[49m\u001b[43mkeepdims\u001b[49m\u001b[38;5;241;43m=\u001b[39;49m\u001b[43mkeepdims\u001b[49m\u001b[43m,\u001b[49m\u001b[43m \u001b[49m\u001b[43minitial\u001b[49m\u001b[38;5;241;43m=\u001b[39;49m\u001b[43minitial\u001b[49m\u001b[43m,\u001b[49m\u001b[43m \u001b[49m\u001b[43mwhere\u001b[49m\u001b[38;5;241;43m=\u001b[39;49m\u001b[43mwhere\u001b[49m\n\u001b[1;32m   2469\u001b[0m \u001b[43m\u001b[49m\u001b[43m)\u001b[49m\n",
      "File \u001b[0;32m~/miniconda3/envs/csci378-deep-learning/lib/python3.13/site-packages/numpy/_core/fromnumeric.py:86\u001b[0m, in \u001b[0;36m_wrapreduction\u001b[0;34m(obj, ufunc, method, axis, dtype, out, **kwargs)\u001b[0m\n\u001b[1;32m     83\u001b[0m         \u001b[38;5;28;01melse\u001b[39;00m:\n\u001b[1;32m     84\u001b[0m             \u001b[38;5;28;01mreturn\u001b[39;00m reduction(axis\u001b[38;5;241m=\u001b[39maxis, out\u001b[38;5;241m=\u001b[39mout, \u001b[38;5;241m*\u001b[39m\u001b[38;5;241m*\u001b[39mpasskwargs)\n\u001b[0;32m---> 86\u001b[0m \u001b[38;5;28;01mreturn\u001b[39;00m \u001b[43mufunc\u001b[49m\u001b[38;5;241;43m.\u001b[39;49m\u001b[43mreduce\u001b[49m\u001b[43m(\u001b[49m\u001b[43mobj\u001b[49m\u001b[43m,\u001b[49m\u001b[43m \u001b[49m\u001b[43maxis\u001b[49m\u001b[43m,\u001b[49m\u001b[43m \u001b[49m\u001b[43mdtype\u001b[49m\u001b[43m,\u001b[49m\u001b[43m \u001b[49m\u001b[43mout\u001b[49m\u001b[43m,\u001b[49m\u001b[43m \u001b[49m\u001b[38;5;241;43m*\u001b[39;49m\u001b[38;5;241;43m*\u001b[39;49m\u001b[43mpasskwargs\u001b[49m\u001b[43m)\u001b[49m\n",
      "\u001b[0;31mKeyboardInterrupt\u001b[0m: "
     ]
    }
   ],
   "source": [
    "model_weights = train(norm_train_images,\n",
    "                      train_labels,\n",
    "                      norm_valid_images,\n",
    "                      valid_labels,\n",
    "                      epochs=300,\n",
    "                      learning_rate=2e-6)"
   ]
  },
  {
   "cell_type": "markdown",
   "id": "194662d3-57d7-4bba-b7e5-8286faf3fe0a",
   "metadata": {},
   "source": [
    "If things are going well you should see your loss going down over time and your validation accuracy going up. If your loss is diverging, try lowering your learning rate. If it looks like training hasn't finished, try running for more epochs or increasing the learning rate. With a little bit of tuning I'm hitting around 92% accuracy on the validation set.\n",
    "\n",
    "Finally, we can visualize some predictions. The code below shows the predicted class for each image long with the predicted probability for that class. You'll need to fill in the part that computes predictions for each of the selected images so that the variable `preds` contains a probability distribution over the 10 classes. This is the same as the code you wrote above in the `train` function to produce `preds` except that the input data is now called `viz_images`."
   ]
  },
  {
   "cell_type": "code",
   "execution_count": null,
   "id": "a6117252-6223-4543-93b2-ee541cad72c7",
   "metadata": {},
   "outputs": [
    {
     "data": {
      "image/png": "[encoded data removed]",
      "text/plain": [
       "<Figure size 640x480 with 5 Axes>"
      ]
     },
     "metadata": {},
     "output_type": "display_data"
    }
   ],
   "source": [
    "fig, axs = plt.subplots(1, 5)\n",
    "fig.tight_layout()\n",
    "idxs = np.random.randint(0, valid_images.shape[0], size=5)\n",
    "viz_images = norm_valid_images[idxs]\n",
    "logits = viz_images @ model_weights\n",
    "exp_logits = np.exp(logits)\n",
    "\n",
    "# Calculating S(xW)\n",
    "preds = exp_logits/np.expand_dims(np.sum(exp_logits, axis=1), axis=1)\n",
    "max_ind = np.argmax(preds, axis=1)\n",
    "for i in range(5):\n",
    "    axs[i].imshow(valid_images[idxs[i]].reshape(28, 28), cmap='gray', vmin=0, vmax=255)\n",
    "    axs[i].title.set_text(\"Pred: {} ({:.2f})\".format(max_ind[i], preds[i,max_ind[i]]))\n",
    "plt.show()"
   ]
  },
  {
   "cell_type": "markdown",
   "id": "ad086dfc-a099-48d1-9d48-2709489ff2d5",
   "metadata": {},
   "source": [
    "## Appendix: Gradient\n",
    "\n",
    "Here is the derivation of the gradient of our linear model presented up above. Remember our loss function:\n",
    "\n",
    "$$\n",
    "\\ell(x, y, W) = -\\log f(W; x)_y\n",
    "$$\n",
    "\n",
    "For convenience, I'll define some notation:\n",
    "\n",
    "- $l = W x$ is a vector of logits\n",
    "- $p = S(l) = S(W x)$ is the distribution output by the model.\n",
    "\n",
    "We'll compute the gradient by stepping backward through the model and using the chain rule. That is, we'll start by computing the gradient of the loss w.r.t. $p$, then we'll get the loss w.r.t. $l$, then we'll move on to $W$.\n",
    "\n",
    "$$\n",
    "\\frac{\\partial \\ell}{\\partial p_i} = \\begin{cases} 0 & i \\neq y \\\\ -1 / p_i & i = y \\end{cases}\n",
    "$$\n",
    "\n",
    "Then we need to compute the partial derivatives of each output of the softmax with respect to each input. We'll start by finding the derivative of each softmax output with respect to the _corresponding_ input.\n",
    "\n",
    "$$\n",
    "\\begin{align}\n",
    "\\frac{\\partial S(z)_i}{\\partial z_i} &= \\frac{\\partial}{\\partial z_i} \\frac{e^{z_i}}{\\sum_k e^{z_k}} \\\\\n",
    "&= \\frac{e^{z_i} \\left (\\sum_k e^{z_k} \\right) - e^{2 z_i}}{\\left( \\sum_k e^{z_k} \\right)^2} \\\\\n",
    "&= \\frac{e^{z_i}}{\\sum_k e^{z_k}} \\cdot \\frac{\\sum_k e^{z_k} - e^{z_i}}{\\sum_k e^{z_k}} \\\\\n",
    "&= S(z)_i (1 - S(z)_i)\n",
    "\\end{align}\n",
    "$$\n",
    "\n",
    "Now we consider the derivative of $S(z)_i$ w.r.t. $z_j$ when $i \\neq j$.\n",
    "\n",
    "$$\n",
    "\\begin{align}\n",
    "\\frac{\\partial S(z)_i}{\\partial z_j} &= \\frac{\\partial}{\\partial z_j} \\frac{e^{z_i}}{\\sum_k e^{z_k}} \\\\\n",
    "&= \\frac{ - e^{z_i} e^{z_j}}{\\left( \\sum_k e^{z_k} \\right)^2} \\\\\n",
    "&= \\frac{-e^{z_i}}{\\sum_k e^{z_k}} \\cdot \\frac{e^{z_j}}{\\sum_k e^{z_k}} \\\\\n",
    "&= -S(z)_i S(z)_j\n",
    "\\end{align}\n",
    "$$\n",
    "\n",
    "Notice that $p_i = S(l)_i$. Now we have\n",
    "\n",
    "$$\n",
    "\\begin{align}\n",
    "\\frac{\\partial \\ell}{\\partial l_i} &= \\sum_k \\frac{\\partial \\ell}{\\partial p_k} \\frac{\\partial p_k}{\\partial l_i} \\\\\n",
    "&= \\begin{cases} -\\frac{1}{p_y} p_i ( 1 - p_i ) & i = y \\\\ \\frac{1}{p_y} p_i p_y & i \\neq y \\end{cases} \\\\\n",
    "&= \\begin{cases} - (1 - p_i) & i = y \\\\ p_i & i \\neq y \\end{cases} \\\\\n",
    "&= p_i - \\delta_{i,y}\n",
    "\\end{align}\n",
    "$$\n",
    "\n",
    "where $\\delta_{i,y}$ is one if $i = y$ and zero otherwise. Finally,\n",
    "\n",
    "$$\n",
    "\\nabla_W \\ell(x, y, W) = \\nabla_l \\ell(x, y, W) \\nabla_W l = x (p - h(y))^T\n",
    "$$"
   ]
  },
  {
   "cell_type": "markdown",
   "id": "90f0163b",
   "metadata": {},
   "source": [
    "# Notes\n",
    "\n",
    "Scripty L is the 'likelihood'; this represents a real thing. Analytically it is really nasty and so we transform it using the log and then negating it. This is the negative-log likelihood L which is our loss function. f is the model architecture and tells us the prediction of a particular data point x. The little scripty l is one term from the sum for the loss. It is basically just for convenience of notation."
   ]
  }
 ],
 "metadata": {
  "kernelspec": {
   "display_name": "csci378-deep-learning",
   "language": "python",
   "name": "python3"
  },
  "language_info": {
   "codemirror_mode": {
    "name": "ipython",
    "version": 3
   },
   "file_extension": ".py",
   "mimetype": "text/x-python",
   "name": "python",
   "nbconvert_exporter": "python",
   "pygments_lexer": "ipython3",
   "version": "3.13.1"
  }
 },
 "nbformat": 4,
 "nbformat_minor": 5
}
