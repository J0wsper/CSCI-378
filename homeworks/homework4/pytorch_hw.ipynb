{
 "cells": [
  {
   "cell_type": "markdown",
   "id": "82843a3e-0776-4c72-a455-63fbb4dccbe4",
   "metadata": {},
   "source": [
    "# Comparing MLP and Convolutional Models\n",
    "\n",
    "In this week's homework, we'll use PyTorch to compare the performance of multi-layer perceptrons (MLP's; the kind of model we've looked at so far) against _convolutional_ neural networks (CNN's). We'll talk about convolutions in class on Monday, but you can get started on the MLP part of the homework as soon as you're ready. For our comparison we'll go back to the CIFAR-10 dataset, since it's a bit less chaotic than CIFAR-100.\n",
    "\n",
    "As with the last homework, I have some guidelines about what parts of the homework are necessary for different grades:\n",
    "\n",
    "- The basic version, for a C, is to define and train an MLP and a CNN.\n",
    "- On top of that, the B level work requires you to analyze your results a bit. I'll describe this in more detail later in the notebook after the code that sets up and trains the networks.\n",
    "- For an A, you'll need to finish the activation map visualization in the last section of this notebook. More details on that later on.\n",
    "\n",
    "The rest of the document is organized into sections which are labeled with the grade they correspond to."
   ]
  },
  {
   "cell_type": "markdown",
   "id": "0f24cd25-bc95-4507-971b-e407c7b8b468",
   "metadata": {},
   "source": [
    "## Data Setup\n",
    "\n",
    "The first section of the notebook gets the dataset and sets up the transforms we need. The code in this section is complete, although you may need to change the dataset path or change the `transform` definition to match your version of torchvision."
   ]
  },
  {
   "cell_type": "code",
   "execution_count": 16,
   "id": "0090403a-c772-4aa2-aa57-484713eaf063",
   "metadata": {},
   "outputs": [],
   "source": [
    "import torch\n",
    "import torch.nn as nn\n",
    "import torch.optim as optim\n",
    "import torchvision\n",
    "torchvision.disable_beta_transforms_warning()\n",
    "import torchvision.transforms.v2 as transforms\n",
    "\n",
    "import numpy as np\n",
    "import matplotlib.pyplot as plt\n",
    "%matplotlib inline\n",
    "%config InlineRenderer.figure_format = 'retina'\n",
    "\n",
    "if torch.cuda.is_available():\n",
    "    device = 'cuda'\n",
    "else:\n",
    "    device = 'cpu'"
   ]
  },
  {
   "cell_type": "markdown",
   "id": "5ed2cc76",
   "metadata": {},
   "source": []
  },
  {
   "cell_type": "code",
   "execution_count": 17,
   "id": "fbe40599-58d5-4920-9495-13f356e7c91a",
   "metadata": {},
   "outputs": [
    {
     "name": "stdout",
     "output_type": "stream",
     "text": [
      "Files already downloaded and verified\n",
      "50000\n"
     ]
    }
   ],
   "source": [
    "transform = transforms.Compose([\n",
    "    transforms.ToImage(),\n",
    "    transforms.ConvertImageDtype(),\n",
    "    # Depending on your torchvision version you may need to change these:\n",
    "    # - If you don't have torchvision.transforms.v2, then import torchvision.transforms\n",
    "    #   instead and use ToTensor() to replace _both_ of the transforms above.\n",
    "    # - If you have v2 but it says ToImage() is undefined, then use ToImageTensor() instead.\n",
    "])\n",
    "\n",
    "# If you already have the CIFAR10 data downloaded from the in-class notebook, you can change the path here\n",
    "# to point to it so you avoid downloading a second copy.\n",
    "cifar = torchvision.datasets.CIFAR10(\"../../data/torch/cifar\", download=True, transform=transform)\n",
    "train_size = int(0.8 * len(cifar))\n",
    "train_data, valid_data = torch.utils.data.random_split(cifar, [train_size, len(cifar) - train_size])\n",
    "\n",
    "classes = ['plane', 'car', 'bird', 'cat', 'deer', 'dog', 'frog', 'horse', 'ship', 'truck']\n",
    "\n",
    "print(len(cifar))"
   ]
  },
  {
   "cell_type": "code",
   "execution_count": 46,
   "id": "ff2c4238-357f-4932-8be6-189e70fe96c9",
   "metadata": {},
   "outputs": [
    {
     "name": "stdout",
     "output_type": "stream",
     "text": [
      "tensor([0.4914, 0.4822, 0.4465]) tensor([0.2470, 0.2435, 0.2616])\n"
     ]
    }
   ],
   "source": [
    "mean = []\n",
    "for x, _ in cifar:\n",
    "    mean.append(torch.mean(x, dim=(1, 2)))\n",
    "mean = torch.stack(mean, dim=0).mean(dim=0)\n",
    "std = []\n",
    "for x, _ in cifar:\n",
    "    std.append(((x - mean[:,np.newaxis,np.newaxis]) ** 2).mean(dim=(1, 2)))\n",
    "std = torch.stack(std, dim=0).mean(dim=0).sqrt()\n",
    "print(mean, std)"
   ]
  },
  {
   "cell_type": "code",
   "execution_count": null,
   "id": "fff7fa3b-fe94-4ad5-a11d-0af917329dae",
   "metadata": {},
   "outputs": [],
   "source": [
    "cifar_mean = (0.4914, 0.4822, 0.4465)\n",
    "cifar_std = (0.2470, 0.2435, 0.2616)\n",
    "\n",
    "normalize = transforms.Normalize(cifar_mean, cifar_std)"
   ]
  },
  {
   "cell_type": "markdown",
   "id": "bc4c144a-b2ae-455b-a636-ebd7a28806db",
   "metadata": {},
   "source": [
    "## Models and Training (C)\n",
    "\n",
    "First, define an MLP model for the CIFAR dataset. An MLP, also called a fully-connected network, consists of linear computations alternated with nonlinear activation functions, just like every network we've looked at in this class so far. This is very similar to what we did in clas on Wednesday and lab on Friday."
   ]
  },
  {
   "cell_type": "code",
   "execution_count": null,
   "id": "b5917c17-dd34-4d98-82aa-47a2734f75ef",
   "metadata": {},
   "outputs": [],
   "source": [
    "class MLP(nn.Module):\n",
    "\n",
    "    def __init__(self):\n",
    "        super().__init__()\n",
    "        self.model = nn.Sequential(\n",
    "            nn.Linear(3*32*32, 256),\n",
    "            nn.ReLU(),\n",
    "            nn.Linear(256, 128),\n",
    "            nn.ReLU(),\n",
    "            nn.Linear(128, 10),\n",
    "        )\n",
    "\n",
    "    def forward(self, x):\n",
    "        return self.model(x.reshape(-1, 3*32*32).squeeze(dim=0))"
   ]
  },
  {
   "cell_type": "markdown",
   "id": "a4d0cb82-472e-4c23-8e83-b30df497de8a",
   "metadata": {},
   "source": [
    "Now let's define a training function for our MLP. As usual, you may want to add more arguments to the training function. For the latter parts of the notebook, it will be helpful if your training function returns both the model and a list of the training and validation accuracies for each epoch."
   ]
  },
  {
   "cell_type": "code",
   "execution_count": null,
   "id": "56a7791e-a629-4776-b259-c475dae86722",
   "metadata": {},
   "outputs": [],
   "source": [
    "def train(model_class=MLP, lr=1e-3, epochs=10, batch_size=64):\n",
    " \n",
    "    data_loader = torch.utils.data.DataLoader(train_data, batch_size=batch_size, shuffle=True)\n",
    "    valid_loader = torch.utils.data.DataLoader(valid_data, batch_size=batch_size, shuffle=False)\n",
    "    print(device)\n",
    "    network = model_class().to(device)\n",
    "    loss = nn.CrossEntropyLoss()\n",
    "    opt = optim.SGD(network.parameters(), momentum=0.9, lr=lr, weight_decay=0)\n",
    "    train_accs = []\n",
    "    valid_accs = []\n",
    "    \n",
    "    for i in range(epochs):\n",
    "\n",
    "        for batch_xs, batch_ys in data_loader:\n",
    "            batch_xs = batch_xs.to(device)\n",
    "            batch_ys = batch_ys.to(device)\n",
    "            batch_xs = normalize(batch_xs)\n",
    "            preds = network(batch_xs)\n",
    "            loss_val = loss(preds, batch_ys)\n",
    "            opt.zero_grad()\n",
    "            loss_val.backward()\n",
    "            opt.step()\n",
    "        \n",
    "        for batch_xs, batch_ys in valid_loader:\n",
    "\n",
    "            batch_xs = batch_xs.to(device)\n",
    "            batch_ys = batch_ys.to(device)\n",
    "            batch_xs = normalize(batch_xs)\n",
    "            preds = network(batch_xs)\n",
    "            valid_accs.append((preds.argmax(dim=1) == batch_ys).float().mean())\n",
    "        \n",
    "        print(\"Epoch:\", i, \"Validation accuracy:\", torch.tensor(valid_accs).mean().item())\n",
    "\n",
    "    return network, train_accs, valid_accs"
   ]
  },
  {
   "cell_type": "code",
   "execution_count": null,
   "id": "db839eaf-5da8-479b-8280-4b67556bc7b2",
   "metadata": {},
   "outputs": [
    {
     "name": "stdout",
     "output_type": "stream",
     "text": [
      "cpu\n",
      "Epoch: 0 Validation accuracy: 0.4468550980091095\n",
      "Epoch: 1 Validation accuracy: 0.4641222059726715\n",
      "Epoch: 2 Validation accuracy: 0.47438958287239075\n",
      "Epoch: 3 Validation accuracy: 0.4836285710334778\n",
      "Epoch: 4 Validation accuracy: 0.48859474062919617\n",
      "Epoch: 5 Validation accuracy: 0.4947584867477417\n",
      "Epoch: 6 Validation accuracy: 0.498492956161499\n",
      "Epoch: 7 Validation accuracy: 0.5004354119300842\n",
      "Epoch: 8 Validation accuracy: 0.5040804147720337\n",
      "Epoch: 9 Validation accuracy: 0.5054836869239807\n",
      "Epoch: 10 Validation accuracy: 0.5073646306991577\n",
      "Epoch: 11 Validation accuracy: 0.5089486837387085\n",
      "Epoch: 12 Validation accuracy: 0.50960773229599\n",
      "Epoch: 13 Validation accuracy: 0.5101014971733093\n",
      "Epoch: 14 Validation accuracy: 0.5107550621032715\n",
      "CPU times: user 7min 42s, sys: 6.11 s, total: 7min 48s\n",
      "Wall time: 1min 57s\n"
     ]
    }
   ],
   "source": [
    "%%time\n",
    "mlp_model, mlp_train_accs, mlp_valid_accs = train(model_class=MLP, lr=5e-3, epochs=15, batch_size=64)"
   ]
  },
  {
   "cell_type": "markdown",
   "id": "1edd0d38-aa25-4d97-bd63-0e61c4320448",
   "metadata": {},
   "source": [
    "Now you can define a CNN for the same task."
   ]
  },
  {
   "cell_type": "code",
   "execution_count": null,
   "id": "608fb146-c6eb-404b-9ac5-85c1e35675ed",
   "metadata": {},
   "outputs": [],
   "source": [
    "class CNN(nn.Module):\n",
    "\n",
    "    def __init__(self):\n",
    "        super().__init__()\n",
    "        self.model = nn.Sequential(\n",
    "            nn.Conv2d(3, 16, 3),\n",
    "            nn.MaxPool2d(2),\n",
    "            nn.Conv2d(16, 32, 3),\n",
    "            nn.MaxPool2d(2),\n",
    "            nn.Conv2d(32, 64, 3),\n",
    "            nn.AvgPool2d(2),\n",
    "            nn.Flatten(),\n",
    "            nn.Linear(256, 10)\n",
    "        )\n",
    "\n",
    "    def forward(self, x):\n",
    "        return self.model(x)"
   ]
  },
  {
   "cell_type": "markdown",
   "id": "5805ea5f-607d-45b9-b32c-84c6248b7b41",
   "metadata": {},
   "source": [
    "Now you can train your CNN. You should be able use the same `train` function but pass it `model_class=CNN` (you may need to change some other hyperparameters to get good results)."
   ]
  },
  {
   "cell_type": "code",
   "execution_count": null,
   "id": "4ded6d3f-5f6f-4a27-8e24-5cc6f770d6d3",
   "metadata": {},
   "outputs": [
    {
     "name": "stdout",
     "output_type": "stream",
     "text": [
      "cpu\n",
      "Epoch: 0 Validation accuracy: 0.5014928579330444\n",
      "Epoch: 1 Validation accuracy: 0.5137838125228882\n",
      "Epoch: 2 Validation accuracy: 0.5341693162918091\n",
      "Epoch: 3 Validation accuracy: 0.5486415028572083\n",
      "Epoch: 4 Validation accuracy: 0.5607882142066956\n",
      "Epoch: 5 Validation accuracy: 0.5697319507598877\n",
      "Epoch: 6 Validation accuracy: 0.5754805207252502\n",
      "Epoch: 7 Validation accuracy: 0.5804264545440674\n",
      "Epoch: 8 Validation accuracy: 0.5858324766159058\n",
      "Epoch: 9 Validation accuracy: 0.5895799994468689\n",
      "Epoch: 10 Validation accuracy: 0.5935328602790833\n",
      "Epoch: 11 Validation accuracy: 0.5956408977508545\n",
      "Epoch: 12 Validation accuracy: 0.598251461982727\n",
      "Epoch: 13 Validation accuracy: 0.6004464030265808\n",
      "Epoch: 14 Validation accuracy: 0.6020634174346924\n",
      "CPU times: user 12min 7s, sys: 7.21 s, total: 12min 14s\n",
      "Wall time: 3min 4s\n"
     ]
    }
   ],
   "source": [
    "%%time\n",
    "cnn_model, cnn_train_accs, cnn_valid_accs = train(model_class=CNN, lr=8e-3, epochs=15, batch_size=64)"
   ]
  },
  {
   "cell_type": "markdown",
   "id": "0fdb01db-f89f-4a53-a5b1-77faf2bd8dc2",
   "metadata": {},
   "source": [
    "Given how long it takes to train the CNN model, now might be a good time to talk about saving and loading models. The cell below will save your CNN model to the file `cnn_model.pt`."
   ]
  },
  {
   "cell_type": "code",
   "execution_count": null,
   "id": "573b2210-1745-4283-89ce-9bfca9653fb9",
   "metadata": {},
   "outputs": [],
   "source": [
    "torch.save(cnn_model.state_dict(), \"cnn_model.pt\")"
   ]
  },
  {
   "cell_type": "markdown",
   "id": "4a6ea796-3666-4bee-90a7-9c9e32c06b13",
   "metadata": {},
   "source": [
    "If you have the file `cnn_model.pt` on your system, then you can load it with this code:"
   ]
  },
  {
   "cell_type": "code",
   "execution_count": null,
   "id": "3ac8208a-8b61-4220-b095-3d56731130be",
   "metadata": {},
   "outputs": [
    {
     "name": "stderr",
     "output_type": "stream",
     "text": [
      "/tmp/ipykernel_130800/1420923919.py:2: FutureWarning: You are using `torch.load` with `weights_only=False` (the current default value), which uses the default pickle module implicitly. It is possible to construct malicious pickle data which will execute arbitrary code during unpickling (See https://github.com/pytorch/pytorch/blob/main/SECURITY.md#untrusted-models for more details). In a future release, the default value for `weights_only` will be flipped to `True`. This limits the functions that could be executed during unpickling. Arbitrary objects will no longer be allowed to be loaded via this mode unless they are explicitly allowlisted by the user via `torch.serialization.add_safe_globals`. We recommend you start setting `weights_only=True` for any use case where you don't have full control of the loaded file. Please open an issue on GitHub for any issues related to this experimental feature.\n",
      "  loaded_model.load_state_dict(torch.load(\"cnn_model.pt\"))\n"
     ]
    },
    {
     "data": {
      "text/plain": [
       "<All keys matched successfully>"
      ]
     },
     "execution_count": 13,
     "metadata": {},
     "output_type": "execute_result"
    }
   ],
   "source": [
    "loaded_model = CNN()\n",
    "loaded_model.load_state_dict(torch.load(\"cnn_model.pt\"))"
   ]
  },
  {
   "cell_type": "markdown",
   "id": "c651538a-987a-4d96-afed-c6d38825d0f1",
   "metadata": {},
   "source": [
    "## Analysis (B)\n",
    "\n",
    "In this section, we'll do some minor analysis of the results of our experiment above. Let's compare\n",
    "\n",
    "- the time taken to train each model,\n",
    "- the validation accuracy over time,\n",
    "- the total number of parameters in each model.\n",
    "\n",
    "That last measurement, the total number of parameters, is something you'll need to compute pased on your network architecture. When I say number of parameters here, I'm referring to the total number of dimensions in the parameter space. That is, the total number of individual real numbers in our parameters. For example, a matrix of size 100x10 has 1,000 parameters.\n",
    "\n",
    "I'm not asking for anything specific here, I'm just looking for you to think about the models we're using and their relative merits. If you think of something else that might be useful to compare the two networks, mention that as well."
   ]
  },
  {
   "cell_type": "markdown",
   "id": "c27817c9-edfc-4659-b1b5-f3f49b22f2f3",
   "metadata": {},
   "source": [
    "### What Do We Learn?\n",
    "- In terms of the time it takes to train each model, they're roughly comparable at just over 1 minute running on the CUDA-enabled GPUs.\n",
    "- The validation accuracy of the CNN model is significantly higher both initially and over time. I have adjusted the MLP hyperparameters a bit and no matter what I choose, the CNN simply performs better. The validation accuracy of the MLP tops out at roughly \\~51%, while the CNN tops out at over \\~60%. An interesting detail is that with the learning rate I select, both the CNN and the MLP start at roughly the same validation accuracy (~47%) but the CNN plateaus much later than the MLP.\n",
    "- In terms of parameters, I did some math and found that the MLP has 823936 parameters in the formulation I produced while the CNN has 23584 parameters. Therefore, the MLP has over 33 times more parameters than the CNN. A whole order of magnitude more parameters is a pretty bad look unfortunately.\n",
    "\n",
    "### Relative Merits of the Models\n",
    "- In this case, I think that the CNN just had the MLP beat for the most part.\n",
    "- Its reduced number of parameters means that overfitting is less likely (unless there's something else in the CNN formulation that I'm missing that would change this fact).\n",
    "- The CNN also obtains much higher validation accuracy than the MLP even without extensive hyperparameter tweaking.\n",
    "- Finally, the CNN allows for slightly more flexibility in terms of how we want to do training because of the interleaving of `ReLU`, `MaxPool2d` and `AvgPool2d` rather than relying on the traditional activation functions of an MLP."
   ]
  },
  {
   "cell_type": "markdown",
   "id": "5812b240-336d-4aa2-aee4-0ff9ff13ee11",
   "metadata": {},
   "source": [
    "## Interpretation (A)\n",
    "\n",
    "In this section, we'll explore our CNN and try to understand how it learns to recognize different objects. There are several approaches to this problem. For today we'll look at a simple one that only works for the first convolutional layer. If we plot the weights of the layer as image data, we can visualize the kinds of patterns the convolution is scanning for. In order to do this, you'll need to normalize each kernel to the range [0, 1], then transpose the axis to format the weights as image data, then use the `imshow` function from `matplotlib.pyplot`. The weights of a convolutional layer `conv` are stored as a tensor of shape `Cin, Cout, H, W` in `conv.weight`.\n",
    "\n",
    "If you have a torch tensor `x` and you want to display it with `imshow` you'll need to convert it to numpy by calling `x.detach().numpy()`.\n",
    "\n",
    "Once you've got the plots displaying, take a minute to think about convolutions and try to tell me what the plots mean in terms of how the network recognizes images. (I'm being deliberately a bit vague about this.)"
   ]
  },
  {
   "cell_type": "code",
   "execution_count": null,
   "id": "da2fe436-5667-4f21-83a0-3373714c5a80",
   "metadata": {},
   "outputs": [
    {
     "data": {
      "image/png": "[encoded data removed]",
      "text/plain": [
       "<Figure size 500x500 with 16 Axes>"
      ]
     },
     "metadata": {},
     "output_type": "display_data"
    }
   ],
   "source": [
    "# If your first convolutional layer has fewer than 16 output channels then you'll need to\n",
    "# change the number of plots here.\n",
    "\n",
    "# Getting our model layers first and putting them into a dictionary\n",
    "named_module_dict = dict(loaded_model.named_parameters())\n",
    "\n",
    "# Getting the first convolutional layer as a tensor\n",
    "conv = named_module_dict['model.0.weight'].data\n",
    "\n",
    "# Normalizing it so that all values are in [0,1]\n",
    "conv -= conv.min()\n",
    "conv /= conv.max()\n",
    "\n",
    "fig, axs = plt.subplots(4, 4, figsize=(5, 5))\n",
    "for i in range(4):\n",
    "    for j in range(4):\n",
    "        c = 4 * i + j\n",
    "\n",
    "        axs[i,j].imshow(conv[c].detach().numpy())\n",
    "plt.show()"
   ]
  },
  {
   "cell_type": "markdown",
   "id": "33420262",
   "metadata": {},
   "source": [
    "### What This Means\n",
    "- Okay so these are the 16 kernels that the CNN network produces in its first convolutional layer.\n",
    "- A lot of them are more abstract and its hard to tell what exactly they're doing but some of them make sense from a human-readable perspective.\n",
    "- I'm going to number the kernels 1-16 going from top-left to bottom-right for ease of speaking.\n",
    "- Clearly, 12 and 16 are designed to recognize grass and/or natural scenes. Apparently, our model thinks these are important in classifying data because it has two of them that are very similar.\n",
    "- 14 is a very interesting kernel because the bottom half being entirely blue leads me to believe it is designed to recognize either boats or airplanes. 11 is similar but the blue is on top, leading me to suspect that this one is specifically for airplanes.\n",
    "- 9 and 13 are very similar too. I can't tell if they're trying to recognize man-made structures with the grey and brown or something else. Perhaps these are for the dogs and cats?\n",
    "- 10 is a weird one. I have no idea what is going on there or why it produces such clear color delineations."
   ]
  }
 ],
 "metadata": {
  "kernelspec": {
   "display_name": "csci378-deep-learning",
   "language": "python",
   "name": "python3"
  },
  "language_info": {
   "codemirror_mode": {
    "name": "ipython",
    "version": 3
   },
   "file_extension": ".py",
   "mimetype": "text/x-python",
   "name": "python",
   "nbconvert_exporter": "python",
   "pygments_lexer": "ipython3",
   "version": "3.13.1"
  }
 },
 "nbformat": 4,
 "nbformat_minor": 5
}
